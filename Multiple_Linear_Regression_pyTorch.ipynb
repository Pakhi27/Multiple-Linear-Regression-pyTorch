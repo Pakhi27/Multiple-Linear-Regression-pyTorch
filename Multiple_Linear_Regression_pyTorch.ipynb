{
  "nbformat": 4,
  "nbformat_minor": 0,
  "metadata": {
    "colab": {
      "provenance": [],
      "authorship_tag": "ABX9TyOSZq68n2KZKKqT8SumAgeP",
      "include_colab_link": true
    },
    "kernelspec": {
      "name": "python3",
      "display_name": "Python 3"
    },
    "language_info": {
      "name": "python"
    }
  },
  "cells": [
    {
      "cell_type": "markdown",
      "metadata": {
        "id": "view-in-github",
        "colab_type": "text"
      },
      "source": [
        "<a href=\"https://colab.research.google.com/github/Pakhi27/Multiple-Linear-Regression-pyTorch/blob/main/Multiple_Linear_Regression_pyTorch.ipynb\" target=\"_parent\"><img src=\"https://colab.research.google.com/assets/colab-badge.svg\" alt=\"Open In Colab\"/></a>"
      ]
    },
    {
      "cell_type": "code",
      "execution_count": 1,
      "metadata": {
        "colab": {
          "base_uri": "https://localhost:8080/"
        },
        "id": "Bn4zO9-OWJeM",
        "outputId": "ffa6713d-fc29-4176-b532-48bf3c8125cb"
      },
      "outputs": [
        {
          "output_type": "execute_result",
          "data": {
            "text/plain": [
              "<torch._C.Generator at 0x78c18afb0330>"
            ]
          },
          "metadata": {},
          "execution_count": 1
        }
      ],
      "source": [
        "# Import the libraries and set the random seed\n",
        "\n",
        "from torch import nn\n",
        "import torch\n",
        "torch.manual_seed(1)"
      ]
    },
    {
      "cell_type": "code",
      "source": [
        "# Set the weight and bias\n",
        "\n",
        "w = torch.tensor([[2.0], [3.0]], requires_grad=True)\n",
        "b = torch.tensor([[1.0]], requires_grad=True)"
      ],
      "metadata": {
        "id": "W02-0nd4WWBk"
      },
      "execution_count": 2,
      "outputs": []
    },
    {
      "cell_type": "code",
      "source": [
        "# Define the parameters. torch.mm uses matrix multiplication instead of scaler multiplication.\n",
        "# Define Prediction Function\n",
        "\n",
        "def forward(x):\n",
        "    yhat = torch.mm(x, w) + b\n",
        "    return yhat"
      ],
      "metadata": {
        "id": "GLtvdobcWYje"
      },
      "execution_count": 3,
      "outputs": []
    },
    {
      "cell_type": "code",
      "source": [
        "# Calculate yhat\n",
        "\n",
        "x = torch.tensor([[1.0, 2.0]])\n",
        "yhat = forward(x)\n",
        "print(\"The result: \", yhat)"
      ],
      "metadata": {
        "colab": {
          "base_uri": "https://localhost:8080/"
        },
        "id": "N0ikCpVVWjXy",
        "outputId": "8bd827fe-684d-4bb9-9de9-d487332086c6"
      },
      "execution_count": 4,
      "outputs": [
        {
          "output_type": "stream",
          "name": "stdout",
          "text": [
            "The result:  tensor([[9.]], grad_fn=<AddBackward0>)\n"
          ]
        }
      ]
    },
    {
      "cell_type": "code",
      "source": [
        "# Each row of the following tensor represents a sample:"
      ],
      "metadata": {
        "id": "SDRhwcckW1XO"
      },
      "execution_count": null,
      "outputs": []
    },
    {
      "cell_type": "code",
      "source": [
        "# Sample tensor X\n",
        "\n",
        "X = torch.tensor([[1.0, 1.0], [1.0, 2.0], [1.0, 3.0]])"
      ],
      "metadata": {
        "id": "U_ft9GsxXIfs"
      },
      "execution_count": 5,
      "outputs": []
    },
    {
      "cell_type": "code",
      "source": [
        "# Make the prediction of X\n",
        "\n",
        "yhat = forward(X)\n",
        "print(\"The result: \", yhat)"
      ],
      "metadata": {
        "colab": {
          "base_uri": "https://localhost:8080/"
        },
        "id": "9E1VU2joXMkd",
        "outputId": "8b29cf26-eb71-4ef5-9018-4bf403d5be2e"
      },
      "execution_count": 6,
      "outputs": [
        {
          "output_type": "stream",
          "name": "stdout",
          "text": [
            "The result:  tensor([[ 6.],\n",
            "        [ 9.],\n",
            "        [12.]], grad_fn=<AddBackward0>)\n"
          ]
        }
      ]
    },
    {
      "cell_type": "code",
      "source": [
        "# Class Linear-We can use the linear class to make a prediction."
      ],
      "metadata": {
        "id": "E0W3-JizXSFU"
      },
      "execution_count": null,
      "outputs": []
    },
    {
      "cell_type": "code",
      "source": [
        "# Make a linear regression model using build-in function\n",
        "\n",
        "model = nn.Linear(2, 1)"
      ],
      "metadata": {
        "id": "-tWmjd12XUwP"
      },
      "execution_count": 7,
      "outputs": []
    },
    {
      "cell_type": "code",
      "source": [
        "# Make a prediction of x\n",
        "\n",
        "yhat = model(x)\n",
        "print(\"The result: \", yhat)"
      ],
      "metadata": {
        "colab": {
          "base_uri": "https://localhost:8080/"
        },
        "id": "JXZ9LFEEXYOe",
        "outputId": "71caa675-642c-440a-fc7d-0ec16a8ee788"
      },
      "execution_count": 8,
      "outputs": [
        {
          "output_type": "stream",
          "name": "stdout",
          "text": [
            "The result:  tensor([[-0.3969]], grad_fn=<AddmmBackward0>)\n"
          ]
        }
      ]
    },
    {
      "cell_type": "code",
      "source": [
        "# Predict with multiple samples X:\n",
        "# Make a prediction of X\n",
        "\n",
        "yhat = model(X)\n",
        "print(\"The result: \", yhat)"
      ],
      "metadata": {
        "colab": {
          "base_uri": "https://localhost:8080/"
        },
        "id": "lL0eyGrTXcSG",
        "outputId": "9e4d2901-0033-4cf9-80f5-a595193aac1f"
      },
      "execution_count": 9,
      "outputs": [
        {
          "output_type": "stream",
          "name": "stdout",
          "text": [
            "The result:  tensor([[-0.0848],\n",
            "        [-0.3969],\n",
            "        [-0.7090]], grad_fn=<AddmmBackward0>)\n"
          ]
        }
      ]
    },
    {
      "cell_type": "code",
      "source": [
        "# Build Custom Modules"
      ],
      "metadata": {
        "id": "hg4pNUh3Xiij"
      },
      "execution_count": null,
      "outputs": []
    },
    {
      "cell_type": "code",
      "source": [
        "# Create linear_regression Class\n",
        "\n",
        "class linear_regression(nn.Module):\n",
        "\n",
        "    # Constructor\n",
        "    def __init__(self, input_size, output_size):\n",
        "        super(linear_regression, self).__init__()\n",
        "        self.linear = nn.Linear(input_size, output_size)\n",
        "\n",
        "    # Prediction function\n",
        "    def forward(self, x):\n",
        "        yhat = self.linear(x)\n",
        "        return yhat"
      ],
      "metadata": {
        "id": "kgEI4BwyXjlZ"
      },
      "execution_count": 10,
      "outputs": []
    },
    {
      "cell_type": "code",
      "source": [
        "model = linear_regression(2, 1)"
      ],
      "metadata": {
        "id": "XYwirKSbXme_"
      },
      "execution_count": 11,
      "outputs": []
    },
    {
      "cell_type": "code",
      "source": [
        "# Print model parameters\n",
        "\n",
        "print(\"The parameters: \", list(model.parameters()))"
      ],
      "metadata": {
        "colab": {
          "base_uri": "https://localhost:8080/"
        },
        "id": "X_u7NlbiXqZS",
        "outputId": "9f1c2719-1077-4223-9c1c-f31abeea5869"
      },
      "execution_count": 12,
      "outputs": [
        {
          "output_type": "stream",
          "name": "stdout",
          "text": [
            "The parameters:  [Parameter containing:\n",
            "tensor([[ 0.3319, -0.6657]], requires_grad=True), Parameter containing:\n",
            "tensor([0.4241], requires_grad=True)]\n"
          ]
        }
      ]
    },
    {
      "cell_type": "code",
      "source": [
        "# Print model parameters\n",
        "\n",
        "print(\"The parameters: \", model.state_dict())"
      ],
      "metadata": {
        "colab": {
          "base_uri": "https://localhost:8080/"
        },
        "id": "XXwlZwDgXtnW",
        "outputId": "06499b4c-1621-433d-94a3-d882db877cc2"
      },
      "execution_count": 13,
      "outputs": [
        {
          "output_type": "stream",
          "name": "stdout",
          "text": [
            "The parameters:  OrderedDict([('linear.weight', tensor([[ 0.3319, -0.6657]])), ('linear.bias', tensor([0.4241]))])\n"
          ]
        }
      ]
    },
    {
      "cell_type": "code",
      "source": [
        "# Now we input a 1x2 tensor, and we will get a 1x1 tensor."
      ],
      "metadata": {
        "id": "IpsZRnCoXxt5"
      },
      "execution_count": null,
      "outputs": []
    },
    {
      "cell_type": "code",
      "source": [
        "# Make a prediction of x\n",
        "\n",
        "yhat = model(x)\n",
        "print(\"The result: \", yhat)"
      ],
      "metadata": {
        "colab": {
          "base_uri": "https://localhost:8080/"
        },
        "id": "-YKTk56ZXzX0",
        "outputId": "afb16d69-2354-46e0-ed7f-19af8ed8e128"
      },
      "execution_count": 14,
      "outputs": [
        {
          "output_type": "stream",
          "name": "stdout",
          "text": [
            "The result:  tensor([[-0.5754]], grad_fn=<AddmmBackward0>)\n"
          ]
        }
      ]
    },
    {
      "cell_type": "code",
      "source": [
        "# Make a prediction of X-for multiple samples(X)\n",
        "\n",
        "yhat = model(X)\n",
        "print(\"The result: \", yhat)"
      ],
      "metadata": {
        "colab": {
          "base_uri": "https://localhost:8080/"
        },
        "id": "uLUh4wFOX3KE",
        "outputId": "5d3bbd5d-e6e1-4b66-ca8a-dc83f4770fdf"
      },
      "execution_count": 15,
      "outputs": [
        {
          "output_type": "stream",
          "name": "stdout",
          "text": [
            "The result:  tensor([[ 0.0903],\n",
            "        [-0.5754],\n",
            "        [-1.2411]], grad_fn=<AddmmBackward0>)\n"
          ]
        }
      ]
    },
    {
      "cell_type": "code",
      "source": [
        "# Practice"
      ],
      "metadata": {
        "id": "BT1WZDXXX-P3"
      },
      "execution_count": null,
      "outputs": []
    },
    {
      "cell_type": "code",
      "source": [
        "# Practice: Build a model to predict the follow tensor.\n",
        "\n",
        "X = torch.tensor([[11.0, 12.0, 13, 14], [11, 12, 13, 14]])\n",
        "w = torch.tensor([[2.0], [3.0],[4.0],[5.0]], requires_grad=True)"
      ],
      "metadata": {
        "id": "1AwMCWGsX_e_"
      },
      "execution_count": 20,
      "outputs": []
    },
    {
      "cell_type": "code",
      "source": [
        "\n",
        "def forward(x):\n",
        "    yhat = torch.mm(x, w) + b\n",
        "    return yhat"
      ],
      "metadata": {
        "id": "6XL0kOXlYl69"
      },
      "execution_count": 21,
      "outputs": []
    },
    {
      "cell_type": "code",
      "source": [
        "yhat = forward(X)\n",
        "print(\"The result: \", yhat)"
      ],
      "metadata": {
        "colab": {
          "base_uri": "https://localhost:8080/"
        },
        "id": "BUWt5FbeYCmV",
        "outputId": "2523de18-1202-468e-cb83-4750efbc745f"
      },
      "execution_count": 22,
      "outputs": [
        {
          "output_type": "stream",
          "name": "stdout",
          "text": [
            "The result:  tensor([[181.],\n",
            "        [181.]], grad_fn=<AddBackward0>)\n"
          ]
        }
      ]
    }
  ]
}